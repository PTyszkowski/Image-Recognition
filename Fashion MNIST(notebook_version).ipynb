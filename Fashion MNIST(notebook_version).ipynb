{
 "cells": [
  {
   "cell_type": "code",
   "execution_count": 1,
   "metadata": {},
   "outputs": [],
   "source": [
    "import mnist_reader\n",
    "import numpy as np\n",
    "from matplotlib import pyplot as plt\n",
    "import tensorflow as tf\n",
    "from tensorflow import keras"
   ]
  },
  {
   "cell_type": "code",
   "execution_count": 2,
   "metadata": {},
   "outputs": [],
   "source": [
    "X_train, y_train = mnist_reader.load_mnist('data', kind='train')\n",
    "X_test, y_test = mnist_reader.load_mnist('data', kind='t10k')"
   ]
  },
  {
   "cell_type": "code",
   "execution_count": 4,
   "metadata": {},
   "outputs": [
    {
     "data": {
      "text/plain": [
       "<matplotlib.colorbar.Colorbar at 0x271a63dd6c8>"
      ]
     },
     "execution_count": 4,
     "metadata": {},
     "output_type": "execute_result"
    },
    {
     "data": {
      "image/png": "[encoded data removed]",
      "text/plain": [
       "<Figure size 432x288 with 2 Axes>"
      ]
     },
     "metadata": {
      "needs_background": "light"
     },
     "output_type": "display_data"
    }
   ],
   "source": [
    "X_train = (X_train.reshape(-1,28,28))\n",
    "X_test = (X_test.reshape(-1,28,28))\n",
    "plt.imshow(X_train[0])\n",
    "plt.colorbar()"
   ]
  },
  {
   "cell_type": "code",
   "execution_count": 5,
   "metadata": {},
   "outputs": [],
   "source": [
    "def get_model(x):\n",
    "    model = keras.Sequential([\n",
    "        keras.layers.Flatten(input_shape=(28, 28)),\n",
    "        keras.layers.Dense(x, activation='relu'),\n",
    "        keras.layers.Dense(10)\n",
    "    ])\n",
    "    return model"
   ]
  },
  {
   "cell_type": "code",
   "execution_count": 6,
   "metadata": {
    "scrolled": true
   },
   "outputs": [
    {
     "name": "stdout",
     "output_type": "stream",
     "text": [
      "Train on 48000 samples, validate on 12000 samples\n",
      "Epoch 1/5\n",
      "48000/48000 [==============================] - 3s 56us/sample - loss: 2.1318 - accuracy: 0.2050 - val_loss: 2.0131 - val_accuracy: 0.2062\n",
      "Epoch 2/5\n",
      "48000/48000 [==============================] - 2s 41us/sample - loss: 1.9244 - accuracy: 0.2488 - val_loss: 1.8456 - val_accuracy: 0.2763\n",
      "Epoch 3/5\n",
      "48000/48000 [==============================] - 2s 43us/sample - loss: 1.8237 - accuracy: 0.2852 - val_loss: 1.7897 - val_accuracy: 0.3097\n",
      "Epoch 4/5\n",
      "48000/48000 [==============================] - 2s 42us/sample - loss: 1.6224 - accuracy: 0.3459 - val_loss: 1.4862 - val_accuracy: 0.3913\n",
      "Epoch 5/5\n",
      "48000/48000 [==============================] - 2s 42us/sample - loss: 1.3884 - accuracy: 0.3897 - val_loss: 1.3578 - val_accuracy: 0.3939\n",
      "Train on 48000 samples, validate on 12000 samples\n",
      "Epoch 1/5\n",
      "48000/48000 [==============================] - 2s 52us/sample - loss: 2.7811 - accuracy: 0.1012 - val_loss: 2.3040 - val_accuracy: 0.0983\n",
      "Epoch 2/5\n",
      "48000/48000 [==============================] - 2s 42us/sample - loss: 2.3028 - accuracy: 0.0980 - val_loss: 2.3039 - val_accuracy: 0.0957\n",
      "Epoch 3/5\n",
      "48000/48000 [==============================] - 2s 39us/sample - loss: 2.3028 - accuracy: 0.0994 - val_loss: 2.3041 - val_accuracy: 0.0957\n",
      "Epoch 4/5\n",
      "48000/48000 [==============================] - 2s 39us/sample - loss: 2.3028 - accuracy: 0.0978 - val_loss: 2.3040 - val_accuracy: 0.0957\n",
      "Epoch 5/5\n",
      "48000/48000 [==============================] - 2s 41us/sample - loss: 2.3028 - accuracy: 0.0985 - val_loss: 2.3038 - val_accuracy: 0.1013\n",
      "Train on 48000 samples, validate on 12000 samples\n",
      "Epoch 1/5\n",
      "48000/48000 [==============================] - 2s 52us/sample - loss: 2.8486 - accuracy: 0.4439 - val_loss: 1.1870 - val_accuracy: 0.5388\n",
      "Epoch 2/5\n",
      "48000/48000 [==============================] - 2s 41us/sample - loss: 1.1382 - accuracy: 0.5293 - val_loss: 1.1146 - val_accuracy: 0.5676\n",
      "Epoch 3/5\n",
      "48000/48000 [==============================] - 2s 42us/sample - loss: 1.0478 - accuracy: 0.5585 - val_loss: 1.0451 - val_accuracy: 0.5504\n",
      "Epoch 4/5\n",
      "48000/48000 [==============================] - 2s 40us/sample - loss: 1.0010 - accuracy: 0.5714 - val_loss: 1.0808 - val_accuracy: 0.6232\n",
      "Epoch 5/5\n",
      "48000/48000 [==============================] - 2s 43us/sample - loss: 0.9287 - accuracy: 0.6040 - val_loss: 0.9187 - val_accuracy: 0.6122\n",
      "Train on 48000 samples, validate on 12000 samples\n",
      "Epoch 1/5\n",
      "48000/48000 [==============================] - 3s 57us/sample - loss: 3.7301 - accuracy: 0.4379 - val_loss: 1.2645 - val_accuracy: 0.4972\n",
      "Epoch 2/5\n",
      "48000/48000 [==============================] - 2s 46us/sample - loss: 1.1669 - accuracy: 0.5244 - val_loss: 1.1783 - val_accuracy: 0.5139\n",
      "Epoch 3/5\n",
      "48000/48000 [==============================] - 2s 46us/sample - loss: 1.0453 - accuracy: 0.5695 - val_loss: 0.8886 - val_accuracy: 0.6656\n",
      "Epoch 4/5\n",
      "48000/48000 [==============================] - 3s 55us/sample - loss: 0.7727 - accuracy: 0.7093 - val_loss: 0.7465 - val_accuracy: 0.7096\n",
      "Epoch 5/5\n",
      "48000/48000 [==============================] - 2s 49us/sample - loss: 0.6714 - accuracy: 0.7489 - val_loss: 0.6385 - val_accuracy: 0.7538\n",
      "Train on 48000 samples, validate on 12000 samples\n",
      "Epoch 1/5\n",
      "48000/48000 [==============================] - 3s 55us/sample - loss: 4.4301 - accuracy: 0.6527 - val_loss: 0.8221 - val_accuracy: 0.6781\n",
      "Epoch 2/5\n",
      "48000/48000 [==============================] - 2s 47us/sample - loss: 0.7435 - accuracy: 0.7287 - val_loss: 0.7166 - val_accuracy: 0.7475\n",
      "Epoch 3/5\n",
      "48000/48000 [==============================] - 2s 48us/sample - loss: 0.6615 - accuracy: 0.7554 - val_loss: 0.7092 - val_accuracy: 0.7451\n",
      "Epoch 4/5\n",
      "48000/48000 [==============================] - 2s 47us/sample - loss: 0.6235 - accuracy: 0.7666 - val_loss: 0.5843 - val_accuracy: 0.8012\n",
      "Epoch 5/5\n",
      "48000/48000 [==============================] - 2s 47us/sample - loss: 0.5805 - accuracy: 0.7899 - val_loss: 0.5677 - val_accuracy: 0.7910\n",
      "Train on 48000 samples, validate on 12000 samples\n",
      "Epoch 1/5\n",
      "48000/48000 [==============================] - 3s 67us/sample - loss: 5.0195 - accuracy: 0.7314 - val_loss: 0.7025 - val_accuracy: 0.7820\n",
      "Epoch 2/5\n",
      "48000/48000 [==============================] - 3s 57us/sample - loss: 0.6191 - accuracy: 0.8001 - val_loss: 0.6313 - val_accuracy: 0.8009\n",
      "Epoch 3/5\n",
      "48000/48000 [==============================] - 3s 63us/sample - loss: 0.5471 - accuracy: 0.8194 - val_loss: 0.5346 - val_accuracy: 0.8271\n",
      "Epoch 4/5\n",
      "48000/48000 [==============================] - 3s 59us/sample - loss: 0.5252 - accuracy: 0.8256 - val_loss: 0.4981 - val_accuracy: 0.8432\n",
      "Epoch 5/5\n",
      "48000/48000 [==============================] - 3s 59us/sample - loss: 0.5024 - accuracy: 0.8339 - val_loss: 0.5756 - val_accuracy: 0.8070\n",
      "Train on 48000 samples, validate on 12000 samples\n",
      "Epoch 1/5\n",
      "48000/48000 [==============================] - 5s 109us/sample - loss: 6.1755 - accuracy: 0.6883 - val_loss: 0.7480 - val_accuracy: 0.7448\n",
      "Epoch 2/5\n",
      "48000/48000 [==============================] - 5s 103us/sample - loss: 0.6489 - accuracy: 0.7602 - val_loss: 0.6693 - val_accuracy: 0.7786\n",
      "Epoch 3/5\n",
      "48000/48000 [==============================] - 5s 101us/sample - loss: 0.5688 - accuracy: 0.7947 - val_loss: 0.5805 - val_accuracy: 0.8019\n",
      "Epoch 4/5\n",
      "48000/48000 [==============================] - 5s 101us/sample - loss: 0.5361 - accuracy: 0.8120 - val_loss: 0.6198 - val_accuracy: 0.7902\n",
      "Epoch 5/5\n",
      "48000/48000 [==============================] - 5s 103us/sample - loss: 0.5176 - accuracy: 0.8166 - val_loss: 0.5527 - val_accuracy: 0.8158\n",
      "Train on 48000 samples, validate on 12000 samples\n",
      "Epoch 1/5\n",
      "48000/48000 [==============================] - 7s 146us/sample - loss: 8.0153 - accuracy: 0.7482 - val_loss: 0.6547 - val_accuracy: 0.7856\n",
      "Epoch 2/5\n",
      "48000/48000 [==============================] - 7s 137us/sample - loss: 0.5612 - accuracy: 0.8048 - val_loss: 0.6324 - val_accuracy: 0.7696\n",
      "Epoch 3/5\n",
      "48000/48000 [==============================] - 7s 140us/sample - loss: 0.5214 - accuracy: 0.8168 - val_loss: 0.5755 - val_accuracy: 0.8192\n",
      "Epoch 4/5\n",
      "48000/48000 [==============================] - 7s 149us/sample - loss: 0.5050 - accuracy: 0.8243 - val_loss: 0.5298 - val_accuracy: 0.8268\n",
      "Epoch 5/5\n",
      "48000/48000 [==============================] - 7s 140us/sample - loss: 0.4921 - accuracy: 0.8319 - val_loss: 0.4999 - val_accuracy: 0.8342\n"
     ]
    }
   ],
   "source": [
    "models = []\n",
    "models_trained = []\n",
    "sizes = [10,20,50,100,128,256,512,784]\n",
    "for i in sizes:\n",
    "    models.append(get_model(i))\n",
    "\n",
    "loss = tf.keras.losses.SparseCategoricalCrossentropy(from_logits=True)\n",
    "opt =tf.keras.optimizers.Adam(\n",
    "    learning_rate=0.001, beta_1=0.9, beta_2=0.999)\n",
    "\n",
    "for i in range(len(models)):\n",
    "    models[i].compile(opt, loss,validation_split=0.2, metrics=['accuracy'])\n",
    "    models_trained.append(models[i].fit(X_train, y_train,validation_split=0.2, epochs=5))"
   ]
  },
  {
   "cell_type": "code",
   "execution_count": 7,
   "metadata": {},
   "outputs": [
    {
     "data": {
      "text/plain": [
       "Text(0.5, 1.0, 'choosing hidden layer size')"
      ]
     },
     "execution_count": 7,
     "metadata": {},
     "output_type": "execute_result"
    },
    {
     "data": {
      "image/png": "[encoded data removed]",
      "text/plain": [
       "<Figure size 432x288 with 1 Axes>"
      ]
     },
     "metadata": {
      "needs_background": "light"
     },
     "output_type": "display_data"
    }
   ],
   "source": [
    "for i in range(len(models)):\n",
    "    plt.plot(models_trained[i].history['val_accuracy'])\n",
    "plt.ylabel('val_accuaracy')\n",
    "plt.xlabel('epochs')\n",
    "plt.legend(sizes)\n",
    "plt.title(\"choosing hidden layer size\")"
   ]
  },
  {
   "cell_type": "code",
   "execution_count": 8,
   "metadata": {},
   "outputs": [
    {
     "name": "stdout",
     "output_type": "stream",
     "text": [
      "0 0.39391667\n",
      "1 0.10125\n",
      "2 0.6231667\n",
      "3 0.75375\n",
      "4 0.80125\n",
      "5 0.84316665\n",
      "6 0.81583333\n",
      "7 0.83425\n"
     ]
    }
   ],
   "source": [
    "for i in range(len(models)):\n",
    "    print(i, max(models_trained[i].history['val_accuracy']))"
   ]
  },
  {
   "cell_type": "code",
   "execution_count": 9,
   "metadata": {
    "scrolled": true
   },
   "outputs": [
    {
     "name": "stdout",
     "output_type": "stream",
     "text": [
      "Train on 48000 samples, validate on 12000 samples\n",
      "Epoch 1/10\n",
      "48000/48000 [==============================] - 3s 67us/sample - loss: 10.4137 - accuracy: 0.7385 - val_loss: 6.1989 - val_accuracy: 0.7828\n",
      "Epoch 2/10\n",
      "48000/48000 [==============================] - 3s 57us/sample - loss: 4.8632 - accuracy: 0.8026 - val_loss: 4.3116 - val_accuracy: 0.8014\n",
      "Epoch 3/10\n",
      "48000/48000 [==============================] - 3s 57us/sample - loss: 3.2997 - accuracy: 0.8196 - val_loss: 3.6168 - val_accuracy: 0.8050\n",
      "Epoch 4/10\n",
      "48000/48000 [==============================] - 3s 60us/sample - loss: 2.5329 - accuracy: 0.8311 - val_loss: 2.8269 - val_accuracy: 0.8249\n",
      "Epoch 5/10\n",
      "48000/48000 [==============================] - 3s 60us/sample - loss: 2.0668 - accuracy: 0.8377 - val_loss: 2.4399 - val_accuracy: 0.8267\n",
      "Epoch 6/10\n",
      "48000/48000 [==============================] - 3s 57us/sample - loss: 1.7248 - accuracy: 0.8477 - val_loss: 2.1190 - val_accuracy: 0.8278\n",
      "Epoch 7/10\n",
      "48000/48000 [==============================] - 3s 60us/sample - loss: 1.4277 - accuracy: 0.8521 - val_loss: 1.7898 - val_accuracy: 0.8408\n",
      "Epoch 8/10\n",
      "48000/48000 [==============================] - 3s 62us/sample - loss: 1.1833 - accuracy: 0.8628 - val_loss: 1.8366 - val_accuracy: 0.8214\n",
      "Epoch 9/10\n",
      "48000/48000 [==============================] - 3s 63us/sample - loss: 1.0366 - accuracy: 0.8678 - val_loss: 1.5861 - val_accuracy: 0.8323\n",
      "Epoch 10/10\n",
      "48000/48000 [==============================] - 3s 68us/sample - loss: 0.8996 - accuracy: 0.8709 - val_loss: 1.4292 - val_accuracy: 0.8443\n",
      "Train on 48000 samples, validate on 12000 samples\n",
      "Epoch 1/10\n",
      "48000/48000 [==============================] - 4s 92us/sample - loss: 9.0465 - accuracy: 0.7536 - val_loss: 4.3343 - val_accuracy: 0.8026\n",
      "Epoch 2/10\n",
      "48000/48000 [==============================] - 3s 67us/sample - loss: 3.5476 - accuracy: 0.8063 - val_loss: 2.9667 - val_accuracy: 0.8097\n",
      "Epoch 3/10\n",
      "48000/48000 [==============================] - 3s 67us/sample - loss: 2.1117 - accuracy: 0.8176 - val_loss: 1.8787 - val_accuracy: 0.8152\n",
      "Epoch 4/10\n",
      "48000/48000 [==============================] - 3s 68us/sample - loss: 1.3248 - accuracy: 0.8251 - val_loss: 1.3015 - val_accuracy: 0.8082\n",
      "Epoch 5/10\n",
      "48000/48000 [==============================] - 4s 79us/sample - loss: 0.8097 - accuracy: 0.8315 - val_loss: 0.9928 - val_accuracy: 0.7938\n",
      "Epoch 6/10\n",
      "48000/48000 [==============================] - 3s 71us/sample - loss: 0.5497 - accuracy: 0.8399 - val_loss: 0.6377 - val_accuracy: 0.8293\n",
      "Epoch 7/10\n",
      "48000/48000 [==============================] - 3s 68us/sample - loss: 0.4436 - accuracy: 0.8549 - val_loss: 0.5791 - val_accuracy: 0.8428\n",
      "Epoch 8/10\n",
      "48000/48000 [==============================] - 3s 72us/sample - loss: 0.3974 - accuracy: 0.8622 - val_loss: 0.5329 - val_accuracy: 0.8533\n",
      "Epoch 9/10\n",
      "48000/48000 [==============================] - 3s 67us/sample - loss: 0.3670 - accuracy: 0.8700 - val_loss: 0.5204 - val_accuracy: 0.8556\n",
      "Epoch 10/10\n",
      "48000/48000 [==============================] - 3s 65us/sample - loss: 0.3456 - accuracy: 0.8770 - val_loss: 0.4828 - val_accuracy: 0.8576\n",
      "Train on 48000 samples, validate on 12000 samples\n",
      "Epoch 1/10\n",
      "48000/48000 [==============================] - 4s 87us/sample - loss: 8.7520 - accuracy: 0.7596 - val_loss: 2.4424 - val_accuracy: 0.8018\n",
      "Epoch 2/10\n",
      "48000/48000 [==============================] - 3s 65us/sample - loss: 1.5820 - accuracy: 0.7866 - val_loss: 1.0290 - val_accuracy: 0.7788\n",
      "Epoch 3/10\n",
      "48000/48000 [==============================] - 3s 67us/sample - loss: 0.6663 - accuracy: 0.8001 - val_loss: 0.6202 - val_accuracy: 0.8067\n",
      "Epoch 4/10\n",
      "48000/48000 [==============================] - 3s 68us/sample - loss: 0.5131 - accuracy: 0.8260 - val_loss: 0.5142 - val_accuracy: 0.8274\n",
      "Epoch 5/10\n",
      "48000/48000 [==============================] - 3s 65us/sample - loss: 0.4469 - accuracy: 0.8409 - val_loss: 0.4815 - val_accuracy: 0.8388\n",
      "Epoch 6/10\n",
      "48000/48000 [==============================] - 3s 65us/sample - loss: 0.4355 - accuracy: 0.8446 - val_loss: 0.4641 - val_accuracy: 0.8377\n",
      "Epoch 7/10\n",
      "48000/48000 [==============================] - 3s 67us/sample - loss: 0.4117 - accuracy: 0.8508 - val_loss: 0.4832 - val_accuracy: 0.8447\n",
      "Epoch 8/10\n",
      "48000/48000 [==============================] - 3s 65us/sample - loss: 0.4011 - accuracy: 0.8561 - val_loss: 0.5001 - val_accuracy: 0.8317\n",
      "Epoch 9/10\n",
      "48000/48000 [==============================] - 3s 68us/sample - loss: 0.3894 - accuracy: 0.8593 - val_loss: 0.4868 - val_accuracy: 0.8467\n",
      "Epoch 10/10\n",
      "48000/48000 [==============================] - 3s 64us/sample - loss: 0.3815 - accuracy: 0.8614 - val_loss: 0.4876 - val_accuracy: 0.8432\n",
      "Train on 48000 samples, validate on 12000 samples\n",
      "Epoch 1/10\n",
      "48000/48000 [==============================] - 3s 72us/sample - loss: 3.3207 - accuracy: 0.7336 - val_loss: 0.6486 - val_accuracy: 0.7826\n",
      "Epoch 2/10\n",
      "48000/48000 [==============================] - 3s 64us/sample - loss: 0.5877 - accuracy: 0.7946 - val_loss: 0.5853 - val_accuracy: 0.8018\n",
      "Epoch 3/10\n",
      "48000/48000 [==============================] - 3s 64us/sample - loss: 0.5242 - accuracy: 0.8148 - val_loss: 0.6266 - val_accuracy: 0.7884\n",
      "Epoch 4/10\n",
      "48000/48000 [==============================] - 3s 70us/sample - loss: 0.5010 - accuracy: 0.8258 - val_loss: 0.5637 - val_accuracy: 0.8099\n",
      "Epoch 5/10\n",
      "48000/48000 [==============================] - 3s 69us/sample - loss: 0.4937 - accuracy: 0.8305 - val_loss: 0.5266 - val_accuracy: 0.8173\n",
      "Epoch 6/10\n",
      "48000/48000 [==============================] - 3s 65us/sample - loss: 0.4730 - accuracy: 0.8365 - val_loss: 0.5174 - val_accuracy: 0.8318\n",
      "Epoch 7/10\n",
      "48000/48000 [==============================] - 3s 67us/sample - loss: 0.4627 - accuracy: 0.8404 - val_loss: 0.4944 - val_accuracy: 0.8412\n",
      "Epoch 8/10\n",
      "48000/48000 [==============================] - 3s 69us/sample - loss: 0.4608 - accuracy: 0.8411 - val_loss: 0.4963 - val_accuracy: 0.8358\n",
      "Epoch 9/10\n",
      "48000/48000 [==============================] - 3s 72us/sample - loss: 0.4500 - accuracy: 0.8435 - val_loss: 0.5552 - val_accuracy: 0.8322\n",
      "Epoch 10/10\n",
      "48000/48000 [==============================] - 4s 80us/sample - loss: 0.4541 - accuracy: 0.8448 - val_loss: 0.5373 - val_accuracy: 0.8363\n",
      "Train on 48000 samples, validate on 12000 samples\n",
      "Epoch 1/10\n",
      "48000/48000 [==============================] - 4s 81us/sample - loss: 3.8500 - accuracy: 0.6836 - val_loss: 0.7291 - val_accuracy: 0.7200\n",
      "Epoch 2/10\n",
      "48000/48000 [==============================] - 3s 65us/sample - loss: 0.6966 - accuracy: 0.7377 - val_loss: 0.6288 - val_accuracy: 0.7641\n",
      "Epoch 3/10\n",
      "48000/48000 [==============================] - 4s 75us/sample - loss: 0.6800 - accuracy: 0.7539 - val_loss: 0.6336 - val_accuracy: 0.7828\n",
      "Epoch 4/10\n",
      "48000/48000 [==============================] - 3s 67us/sample - loss: 0.6992 - accuracy: 0.7593 - val_loss: 0.7319 - val_accuracy: 0.7483\n",
      "Epoch 5/10\n",
      "48000/48000 [==============================] - 3s 67us/sample - loss: 0.6922 - accuracy: 0.7637 - val_loss: 0.6657 - val_accuracy: 0.7700\n",
      "Epoch 6/10\n",
      "48000/48000 [==============================] - 3s 68us/sample - loss: 0.6983 - accuracy: 0.7636 - val_loss: 0.6839 - val_accuracy: 0.7469\n",
      "Epoch 7/10\n",
      "48000/48000 [==============================] - 3s 62us/sample - loss: 0.6623 - accuracy: 0.7730 - val_loss: 0.6895 - val_accuracy: 0.7645\n",
      "Epoch 8/10\n",
      "48000/48000 [==============================] - 3s 66us/sample - loss: 0.6692 - accuracy: 0.7747 - val_loss: 0.7148 - val_accuracy: 0.7581\n",
      "Epoch 9/10\n",
      "48000/48000 [==============================] - 3s 62us/sample - loss: 0.6852 - accuracy: 0.7560 - val_loss: 0.8002 - val_accuracy: 0.7078\n",
      "Epoch 10/10\n",
      "48000/48000 [==============================] - 3s 61us/sample - loss: 0.7379 - accuracy: 0.7387 - val_loss: 0.7328 - val_accuracy: 0.7322\n",
      "Train on 48000 samples, validate on 12000 samples\n",
      "Epoch 1/10\n",
      "48000/48000 [==============================] - 3s 70us/sample - loss: 5.7834 - accuracy: 0.6392 - val_loss: 0.8861 - val_accuracy: 0.6438\n",
      "Epoch 2/10\n",
      "48000/48000 [==============================] - 3s 61us/sample - loss: 1.1021 - accuracy: 0.6126 - val_loss: 1.0289 - val_accuracy: 0.6809\n",
      "Epoch 3/10\n",
      "48000/48000 [==============================] - 3s 67us/sample - loss: 1.4132 - accuracy: 0.4888 - val_loss: 1.7062 - val_accuracy: 0.3569\n",
      "Epoch 4/10\n",
      "48000/48000 [==============================] - 3s 65us/sample - loss: 1.5784 - accuracy: 0.3986 - val_loss: 1.7148 - val_accuracy: 0.3313\n",
      "Epoch 5/10\n",
      "48000/48000 [==============================] - 3s 69us/sample - loss: 1.6800 - accuracy: 0.3774 - val_loss: 1.6867 - val_accuracy: 0.3456\n",
      "Epoch 6/10\n",
      "48000/48000 [==============================] - 3s 65us/sample - loss: 1.5982 - accuracy: 0.4009 - val_loss: 1.5957 - val_accuracy: 0.4193\n",
      "Epoch 7/10\n",
      "48000/48000 [==============================] - 3s 65us/sample - loss: 1.6466 - accuracy: 0.3873 - val_loss: 1.7391 - val_accuracy: 0.3273\n",
      "Epoch 8/10\n",
      "48000/48000 [==============================] - 3s 67us/sample - loss: 1.6772 - accuracy: 0.3427 - val_loss: 1.7267 - val_accuracy: 0.3322\n",
      "Epoch 9/10\n",
      "48000/48000 [==============================] - 3s 67us/sample - loss: 1.6937 - accuracy: 0.3373 - val_loss: 1.7382 - val_accuracy: 0.3420\n",
      "Epoch 10/10\n",
      "48000/48000 [==============================] - 3s 67us/sample - loss: 1.7174 - accuracy: 0.3384 - val_loss: 1.7427 - val_accuracy: 0.3231\n"
     ]
    }
   ],
   "source": [
    "models = []\n",
    "models_trained = []\n",
    "rates = [0.0001,0.0002,0.0005, 0.001, 0.002, 0.005]\n",
    "for i in range(len(rates)):\n",
    "    models.append(get_model(sizes[5]))\n",
    "    \n",
    "for i in range(len(models)):\n",
    "    loss = tf.keras.losses.SparseCategoricalCrossentropy(from_logits=True)\n",
    "    opt =tf.keras.optimizers.Adam(\n",
    "    learning_rate=rates[i], beta_1=0.9, beta_2=0.999)\n",
    "    models[i].compile(opt, loss, metrics=['accuracy'])\n",
    "    models_trained.append(models[i].fit(X_train, y_train, validation_split=0.2, epochs=10))"
   ]
  },
  {
   "cell_type": "code",
   "execution_count": 10,
   "metadata": {},
   "outputs": [
    {
     "data": {
      "text/plain": [
       "Text(0.5, 1.0, 'choosing learning rate')"
      ]
     },
     "execution_count": 10,
     "metadata": {},
     "output_type": "execute_result"
    },
    {
     "data": {
      "image/png": "[encoded data removed]",
      "text/plain": [
       "<Figure size 432x288 with 1 Axes>"
      ]
     },
     "metadata": {
      "needs_background": "light"
     },
     "output_type": "display_data"
    }
   ],
   "source": [
    "for i in range(len(models)):\n",
    "    plt.plot(models_trained[i].history['val_accuracy'])\n",
    "plt.ylabel('accuaracy')\n",
    "plt.xlabel('epochs')\n",
    "plt.legend(rates)\n",
    "plt.title(\"choosing learning rate\")"
   ]
  },
  {
   "cell_type": "code",
   "execution_count": 11,
   "metadata": {},
   "outputs": [
    {
     "name": "stdout",
     "output_type": "stream",
     "text": [
      "0 0.84433335\n",
      "1 0.85758334\n",
      "2 0.8466667\n",
      "3 0.8411667\n",
      "4 0.78283334\n",
      "5 0.68091667\n"
     ]
    }
   ],
   "source": [
    "for i in range(len(models)):\n",
    "    print(i, max(models_trained[i].history['val_accuracy']))"
   ]
  },
  {
   "cell_type": "code",
   "execution_count": 17,
   "metadata": {},
   "outputs": [
    {
     "name": "stdout",
     "output_type": "stream",
     "text": [
      "Train on 60000 samples\n",
      "Epoch 1/20\n",
      "60000/60000 [==============================] - 3s 58us/sample - loss: 8.9729 - accuracy: 0.7649\n",
      "Epoch 2/20\n",
      "60000/60000 [==============================] - 3s 53us/sample - loss: 3.0340 - accuracy: 0.8084\n",
      "Epoch 3/20\n",
      "60000/60000 [==============================] - 3s 57us/sample - loss: 1.3396 - accuracy: 0.8041\n",
      "Epoch 4/20\n",
      "60000/60000 [==============================] - 3s 54us/sample - loss: 0.5972 - accuracy: 0.8207\n",
      "Epoch 5/20\n",
      "60000/60000 [==============================] - 3s 54us/sample - loss: 0.4718 - accuracy: 0.8411\n",
      "Epoch 6/20\n",
      "60000/60000 [==============================] - 3s 54us/sample - loss: 0.4197 - accuracy: 0.8510\n",
      "Epoch 7/20\n",
      "60000/60000 [==============================] - 3s 55us/sample - loss: 0.3827 - accuracy: 0.8620\n",
      "Epoch 8/20\n",
      "60000/60000 [==============================] - 3s 56us/sample - loss: 0.3668 - accuracy: 0.8674\n",
      "Epoch 9/20\n",
      "60000/60000 [==============================] - 3s 54us/sample - loss: 0.3450 - accuracy: 0.8756\n",
      "Epoch 10/20\n",
      "60000/60000 [==============================] - 3s 54us/sample - loss: 0.3310 - accuracy: 0.8775\n",
      "Epoch 11/20\n",
      "60000/60000 [==============================] - 3s 54us/sample - loss: 0.3164 - accuracy: 0.8840\n",
      "Epoch 12/20\n",
      "60000/60000 [==============================] - 3s 56us/sample - loss: 0.3095 - accuracy: 0.8852\n",
      "Epoch 13/20\n",
      "60000/60000 [==============================] - 3s 55us/sample - loss: 0.3095 - accuracy: 0.8874\n",
      "Epoch 14/20\n",
      "60000/60000 [==============================] - 3s 54us/sample - loss: 0.2978 - accuracy: 0.8890\n",
      "Epoch 15/20\n",
      "60000/60000 [==============================] - 3s 55us/sample - loss: 0.2911 - accuracy: 0.8921\n",
      "Epoch 16/20\n",
      "60000/60000 [==============================] - 3s 55us/sample - loss: 0.2874 - accuracy: 0.8939\n",
      "Epoch 17/20\n",
      "60000/60000 [==============================] - 3s 56us/sample - loss: 0.2817 - accuracy: 0.8971\n",
      "Epoch 18/20\n",
      "60000/60000 [==============================] - 3s 57us/sample - loss: 0.2792 - accuracy: 0.8978\n",
      "Epoch 19/20\n",
      "60000/60000 [==============================] - 3s 54us/sample - loss: 0.2736 - accuracy: 0.8983\n",
      "Epoch 20/20\n",
      "60000/60000 [==============================] - 3s 55us/sample - loss: 0.2662 - accuracy: 0.9011\n"
     ]
    }
   ],
   "source": [
    "model = get_model(sizes[5])\n",
    "\n",
    "loss = tf.keras.losses.SparseCategoricalCrossentropy(from_logits=True)\n",
    "opt =tf.keras.optimizers.Adam(\n",
    "learning_rate=rates[1], beta_1=0.9, beta_2=0.999)\n",
    "model.compile(opt, loss, metrics=['accuracy'])\n",
    "models_trained.append(model.fit(X_train, y_train, epochs=20))"
   ]
  },
  {
   "cell_type": "code",
   "execution_count": 18,
   "metadata": {
    "scrolled": true
   },
   "outputs": [
    {
     "name": "stdout",
     "output_type": "stream",
     "text": [
      "accuracy on test data: 0.8612\n"
     ]
    }
   ],
   "source": [
    "predictions = model.predict(X_test)\n",
    "acc = 0\n",
    "for i in range(len(y_test)):\n",
    "    if np.argmax(predictions[i]) == y_test[i]:\n",
    "        acc += 1\n",
    "print(\"accuracy on test data:\",acc/len(y_test))"
   ]
  },
  {
   "cell_type": "code",
   "execution_count": 19,
   "metadata": {},
   "outputs": [
    {
     "name": "stdout",
     "output_type": "stream",
     "text": [
      "Model: \"sequential_16\"\n",
      "_________________________________________________________________\n",
      "Layer (type)                 Output Shape              Param #   \n",
      "=================================================================\n",
      "flatten_16 (Flatten)         (None, 784)               0         \n",
      "_________________________________________________________________\n",
      "dense_32 (Dense)             (None, 256)               200960    \n",
      "_________________________________________________________________\n",
      "dense_33 (Dense)             (None, 10)                2570      \n",
      "=================================================================\n",
      "Total params: 203,530\n",
      "Trainable params: 203,530\n",
      "Non-trainable params: 0\n",
      "_________________________________________________________________\n"
     ]
    }
   ],
   "source": [
    "model.summary()"
   ]
  },
  {
   "cell_type": "code",
   "execution_count": 22,
   "metadata": {},
   "outputs": [
    {
     "name": "stdout",
     "output_type": "stream",
     "text": [
      "INFO:tensorflow:Assets written to: my_model\\assets\n"
     ]
    }
   ],
   "source": [
    "model.save('my_model') "
   ]
  },
  {
   "cell_type": "code",
   "execution_count": null,
   "metadata": {},
   "outputs": [],
   "source": []
  }
 ],
 "metadata": {
  "kernelspec": {
   "display_name": "Python 3.7 (tensorflow)",
   "language": "python",
   "name": "tensorflow"
  },
  "language_info": {
   "codemirror_mode": {
    "name": "ipython",
    "version": 3
   },
   "file_extension": ".py",
   "mimetype": "text/x-python",
   "name": "python",
   "nbconvert_exporter": "python",
   "pygments_lexer": "ipython3",
   "version": "3.7.7"
  }
 },
 "nbformat": 4,
 "nbformat_minor": 4
}
